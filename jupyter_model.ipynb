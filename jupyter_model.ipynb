{
 "cells": [
  {
   "cell_type": "code",
   "execution_count": 38,
   "metadata": {},
   "outputs": [],
   "source": [
    "from keras.models import Sequential\n",
    "from keras.layers import Convolution2D, MaxPooling2D, Flatten, Dense\n",
    "import numpy as np\n",
    "from keras.preprocessing import image"
   ]
  },
  {
   "cell_type": "markdown",
   "metadata": {},
   "source": [
    "#### It is for to remove some tensorflow warnings####"
   ]
  },
  {
   "cell_type": "code",
   "execution_count": 39,
   "metadata": {},
   "outputs": [],
   "source": [
    "try:\n",
    "    from tensorflow.python.util import module_wrapper as deprecation\n",
    "except ImportError:\n",
    "    from tensorflow.python.util import deprecation_wrapper as deprecation\n",
    "deprecation._PER_MODULE_WARNING_LIMIT = 0"
   ]
  },
  {
   "cell_type": "markdown",
   "metadata": {},
   "source": [
    "#### Initialize the CNN###"
   ]
  },
  {
   "cell_type": "code",
   "execution_count": 40,
   "metadata": {},
   "outputs": [],
   "source": [
    "classifier = Sequential()"
   ]
  },
  {
   "cell_type": "markdown",
   "metadata": {},
   "source": [
    "#### Add Convolution Layer [Increase the \"input_shape\" \"Ex:input_shape = (256,256,3)\" to get better result but that require more time to train your model]####"
   ]
  },
  {
   "cell_type": "code",
   "execution_count": 41,
   "metadata": {},
   "outputs": [
    {
     "name": "stderr",
     "output_type": "stream",
     "text": [
      "A:\\Anaconda\\lib\\site-packages\\ipykernel_launcher.py:1: UserWarning: Update your `Conv2D` call to the Keras 2 API: `Conv2D(32, (3, 3), input_shape=(64, 64, 3..., activation=\"relu\")`\n",
      "  \"\"\"Entry point for launching an IPython kernel.\n"
     ]
    }
   ],
   "source": [
    "classifier.add(Convolution2D(32,3,3, input_shape = (64,64,3), activation = 'relu'))"
   ]
  },
  {
   "cell_type": "markdown",
   "metadata": {},
   "source": [
    "#### Add Max Pooling Layer###"
   ]
  },
  {
   "cell_type": "code",
   "execution_count": 42,
   "metadata": {},
   "outputs": [],
   "source": [
    "classifier.add(MaxPooling2D(pool_size=(2,2)))"
   ]
  },
  {
   "cell_type": "markdown",
   "metadata": {},
   "source": [
    "#### Add another convolution and Max Pooling layer to improve the perfomance of your model###"
   ]
  },
  {
   "cell_type": "code",
   "execution_count": 43,
   "metadata": {},
   "outputs": [
    {
     "name": "stderr",
     "output_type": "stream",
     "text": [
      "A:\\Anaconda\\lib\\site-packages\\ipykernel_launcher.py:1: UserWarning: Update your `Conv2D` call to the Keras 2 API: `Conv2D(32, (3, 3), activation=\"relu\")`\n",
      "  \"\"\"Entry point for launching an IPython kernel.\n"
     ]
    }
   ],
   "source": [
    "classifier.add(Convolution2D(32,3,3, activation = 'relu'))\n",
    "classifier.add(MaxPooling2D(pool_size=(2,2)))"
   ]
  },
  {
   "cell_type": "markdown",
   "metadata": {},
   "source": [
    "#### Add Flattening Layer### "
   ]
  },
  {
   "cell_type": "code",
   "execution_count": 44,
   "metadata": {},
   "outputs": [],
   "source": [
    "classifier.add(Flatten())"
   ]
  },
  {
   "cell_type": "markdown",
   "metadata": {},
   "source": [
    "#### Add the Neural Network Layer [Increase the \"output_dim\" \"Ex:output_dim = 256\" to get better result but that require more time to train your model]####"
   ]
  },
  {
   "cell_type": "code",
   "execution_count": 45,
   "metadata": {},
   "outputs": [
    {
     "name": "stderr",
     "output_type": "stream",
     "text": [
      "A:\\Anaconda\\lib\\site-packages\\ipykernel_launcher.py:1: UserWarning: Update your `Dense` call to the Keras 2 API: `Dense(activation=\"relu\", units=128)`\n",
      "  \"\"\"Entry point for launching an IPython kernel.\n",
      "A:\\Anaconda\\lib\\site-packages\\ipykernel_launcher.py:2: UserWarning: Update your `Dense` call to the Keras 2 API: `Dense(activation=\"sigmoid\", units=1)`\n",
      "  \n"
     ]
    }
   ],
   "source": [
    "classifier.add(Dense(output_dim=128,activation='relu'))\n",
    "classifier.add(Dense(output_dim=1,activation= 'sigmoid'))"
   ]
  },
  {
   "cell_type": "markdown",
   "metadata": {},
   "source": [
    "#### Compile the Convolution Neural Network####"
   ]
  },
  {
   "cell_type": "code",
   "execution_count": 46,
   "metadata": {},
   "outputs": [],
   "source": [
    "classifier.compile(optimizer = 'adam', loss = 'binary_crossentropy', metrics = ['accuracy'])"
   ]
  },
  {
   "cell_type": "markdown",
   "metadata": {},
   "source": [
    "#### Fitting the Convolution Neural Network to dataset####"
   ]
  },
  {
   "cell_type": "code",
   "execution_count": 47,
   "metadata": {},
   "outputs": [],
   "source": [
    "from keras.preprocessing.image import ImageDataGenerator"
   ]
  },
  {
   "cell_type": "code",
   "execution_count": 48,
   "metadata": {},
   "outputs": [],
   "source": [
    "train_datagen = ImageDataGenerator(rescale=1./255,shear_range = 0.2, zoom_range = 0.2, horizontal_flip= True)\n",
    "test_datagen = ImageDataGenerator(rescale = 1./255)"
   ]
  },
  {
   "cell_type": "code",
   "execution_count": 49,
   "metadata": {},
   "outputs": [
    {
     "name": "stdout",
     "output_type": "stream",
     "text": [
      "Found 8005 images belonging to 2 classes.\n",
      "Found 2023 images belonging to 2 classes.\n"
     ]
    }
   ],
   "source": [
    "training_set = train_datagen.flow_from_directory('dataset/training_set', target_size=(64,64),batch_size =32, class_mode = 'binary')\n",
    "test_set = test_datagen.flow_from_directory('dataset/test_set', target_size=(64,64),batch_size =32, class_mode = 'binary')"
   ]
  },
  {
   "cell_type": "markdown",
   "metadata": {},
   "source": [
    "#### Train Your Model [increase the nb_epoch value to increase the model accuracy but it will take much more time to train your model]####"
   ]
  },
  {
   "cell_type": "code",
   "execution_count": 50,
   "metadata": {},
   "outputs": [
    {
     "name": "stdout",
     "output_type": "stream",
     "text": [
      "250/250 [==============================] - 1158s 5s/step - loss: 0.4267 - acc: 0.7996 - val_loss: 0.4953 - val_acc: 0.7653\n",
      "Epoch 11/25\n",
      "250/250 [==============================] - 201s 805ms/step - loss: 0.4152 - acc: 0.8087 - val_loss: 0.4733 - val_acc: 0.7877\n",
      "Epoch 12/25\n",
      "250/250 [==============================] - 214s 854ms/step - loss: 0.4023 - acc: 0.8178 - val_loss: 0.4742 - val_acc: 0.7923\n",
      "Epoch 13/25\n",
      "250/250 [==============================] - 210s 841ms/step - loss: 0.3932 - acc: 0.8155 - val_loss: 0.4845 - val_acc: 0.7836\n",
      "Epoch 14/25\n",
      "250/250 [==============================] - 211s 842ms/step - loss: 0.3869 - acc: 0.8251 - val_loss: 0.4873 - val_acc: 0.7917\n",
      "Epoch 15/25\n",
      "250/250 [==============================] - 228s 911ms/step - loss: 0.3739 - acc: 0.8325 - val_loss: 0.4705 - val_acc: 0.7930\n",
      "Epoch 16/25\n",
      "250/250 [==============================] - 233s 933ms/step - loss: 0.3624 - acc: 0.8363 - val_loss: 0.5353 - val_acc: 0.7706\n",
      "Epoch 17/25\n",
      "250/250 [==============================] - 218s 872ms/step - loss: 0.3575 - acc: 0.8402 - val_loss: 0.4417 - val_acc: 0.8069\n",
      "Epoch 18/25\n",
      "250/250 [==============================] - 216s 866ms/step - loss: 0.3395 - acc: 0.8489 - val_loss: 0.5234 - val_acc: 0.7724\n",
      "Epoch 19/25\n",
      "250/250 [==============================] - 239s 954ms/step - loss: 0.3343 - acc: 0.8526 - val_loss: 0.4872 - val_acc: 0.7867\n",
      "Epoch 20/25\n",
      "250/250 [==============================] - 218s 872ms/step - loss: 0.3221 - acc: 0.8606 - val_loss: 0.4687 - val_acc: 0.8032\n",
      "Epoch 21/25\n",
      "250/250 [==============================] - 200s 799ms/step - loss: 0.3056 - acc: 0.8674 - val_loss: 0.4841 - val_acc: 0.7987\n",
      "Epoch 22/25\n",
      "250/250 [==============================] - 219s 878ms/step - loss: 0.3047 - acc: 0.8667 - val_loss: 0.5981 - val_acc: 0.7665\n",
      "Epoch 23/25\n",
      "250/250 [==============================] - 233s 931ms/step - loss: 0.2876 - acc: 0.8776 - val_loss: 0.5406 - val_acc: 0.7895\n",
      "Epoch 24/25\n",
      "250/250 [==============================] - 230s 919ms/step - loss: 0.2844 - acc: 0.8784 - val_loss: 0.4946 - val_acc: 0.8122\n",
      "Epoch 25/25\n",
      "250/250 [==============================] - 220s 881ms/step - loss: 0.2709 - acc: 0.8832 - val_loss: 0.4672 - val_acc: 0.8032\n"
     ]
    },
    {
     "data": {
      "text/plain": [
       "<keras.callbacks.History at 0x26cccdfa3c8>"
      ]
     },
     "execution_count": 50,
     "metadata": {},
     "output_type": "execute_result"
    }
   ],
   "source": [
    "classifier.fit_generator(training_set, samples_per_epoch = 8000, nb_epoch = 25, validation_data = test_set, nb_val_samples = 2000)"
   ]
  },
  {
   "cell_type": "markdown",
   "metadata": {},
   "source": [
    "#### predict the images####"
   ]
  },
  {
   "cell_type": "code",
   "execution_count": 54,
   "metadata": {},
   "outputs": [
    {
     "name": "stdout",
     "output_type": "stream",
     "text": [
      "Enter Location of Image to predict: dataset/single_prediction/cat_or_dog_2.jpg\n",
      "Prediction:  dog\n"
     ]
    }
   ],
   "source": [
    "def ImagePrediction(loc):\n",
    "    test_image = image.load_img(loc, target_size = (64,64))\n",
    "    test_image = image.img_to_array(test_image)\n",
    "    test_image = np.expand_dims(test_image, axis =0)\n",
    "    return test_image\n",
    "\n",
    "img = input(\"Enter Location of Image to predict: \")\n",
    "test_image = ImagePrediction(img)\n",
    "result = classifier.predict(test_image)\n",
    "if result[0][0] == 1:\n",
    "    predictions = 'dog'\n",
    "else:\n",
    "    predictions = 'cat'\n",
    "print('Prediction: ',predictions)"
   ]
  }
 ],
 "metadata": {
  "kernelspec": {
   "display_name": "Python 3",
   "language": "python",
   "name": "python3"
  },
  "language_info": {
   "codemirror_mode": {
    "name": "ipython",
    "version": 3
   },
   "file_extension": ".py",
   "mimetype": "text/x-python",
   "name": "python",
   "nbconvert_exporter": "python",
   "pygments_lexer": "ipython3",
   "version": "3.7.4"
  }
 },
 "nbformat": 4,
 "nbformat_minor": 2
}
